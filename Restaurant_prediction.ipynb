{
 "cells": [
  {
   "cell_type": "code",
   "execution_count": 1,
   "id": "f63ad910",
   "metadata": {},
   "outputs": [],
   "source": [
    "import pandas as pd\n",
    "from sklearn.feature_extraction.text import TfidfVectorizer\n",
    "from sklearn.metrics.pairwise import linear_kernel\n"
   ]
  },
  {
   "cell_type": "code",
   "execution_count": 25,
   "id": "2c83d867",
   "metadata": {},
   "outputs": [],
   "source": [
    "data = pd.read_csv(\"C:\\\\Users\\\\mahik\\\\OneDrive\\\\Desktop\\\\datasetrestro\\\\Dataset .csv\")  "
   ]
  },
  {
   "cell_type": "code",
   "execution_count": 28,
   "id": "8e00c64f",
   "metadata": {},
   "outputs": [
    {
     "name": "stdout",
     "output_type": "stream",
     "text": [
      "Restaurant ID           0\n",
      "Restaurant Name         0\n",
      "Country Code            0\n",
      "City                    0\n",
      "Address                 0\n",
      "Locality                0\n",
      "Locality Verbose        0\n",
      "Longitude               0\n",
      "Latitude                0\n",
      "Cuisines                9\n",
      "Average Cost for two    0\n",
      "Currency                0\n",
      "Has Table booking       0\n",
      "Has Online delivery     0\n",
      "Is delivering now       0\n",
      "Switch to order menu    0\n",
      "Price range             0\n",
      "Aggregate rating        0\n",
      "Rating color            0\n",
      "Rating text             0\n",
      "Votes                   0\n",
      "dtype: int64\n"
     ]
    }
   ],
   "source": [
    "print(data.isnull().sum())"
   ]
  },
  {
   "cell_type": "code",
   "execution_count": 33,
   "id": "55c4987a",
   "metadata": {},
   "outputs": [],
   "source": [
    "data.dropna(subset=['Cuisines', 'Rating text'], inplace=True)"
   ]
  },
  {
   "cell_type": "code",
   "execution_count": 34,
   "id": "56f2b023",
   "metadata": {},
   "outputs": [
    {
     "name": "stdout",
     "output_type": "stream",
     "text": [
      " Cleaned dataset:\n",
      "   Restaurant ID         Restaurant Name  Country Code              City  \\\n",
      "0        6317637        Le Petit Souffle           162       Makati City   \n",
      "1        6304287        Izakaya Kikufuji           162       Makati City   \n",
      "2        6300002  Heat - Edsa Shangri-La           162  Mandaluyong City   \n",
      "3        6318506                    Ooma           162  Mandaluyong City   \n",
      "4        6314302             Sambo Kojin           162  Mandaluyong City   \n",
      "\n",
      "                                             Address  \\\n",
      "0  Third Floor, Century City Mall, Kalayaan Avenu...   \n",
      "1  Little Tokyo, 2277 Chino Roces Avenue, Legaspi...   \n",
      "2  Edsa Shangri-La, 1 Garden Way, Ortigas, Mandal...   \n",
      "3  Third Floor, Mega Fashion Hall, SM Megamall, O...   \n",
      "4  Third Floor, Mega Atrium, SM Megamall, Ortigas...   \n",
      "\n",
      "                                     Locality  \\\n",
      "0   Century City Mall, Poblacion, Makati City   \n",
      "1  Little Tokyo, Legaspi Village, Makati City   \n",
      "2  Edsa Shangri-La, Ortigas, Mandaluyong City   \n",
      "3      SM Megamall, Ortigas, Mandaluyong City   \n",
      "4      SM Megamall, Ortigas, Mandaluyong City   \n",
      "\n",
      "                                    Locality Verbose   Longitude   Latitude  \\\n",
      "0  Century City Mall, Poblacion, Makati City, Mak...  121.027535  14.565443   \n",
      "1  Little Tokyo, Legaspi Village, Makati City, Ma...  121.014101  14.553708   \n",
      "2  Edsa Shangri-La, Ortigas, Mandaluyong City, Ma...  121.056831  14.581404   \n",
      "3  SM Megamall, Ortigas, Mandaluyong City, Mandal...  121.056475  14.585318   \n",
      "4  SM Megamall, Ortigas, Mandaluyong City, Mandal...  121.057508  14.584450   \n",
      "\n",
      "                           Cuisines  ...  Has Table booking  \\\n",
      "0        French, Japanese, Desserts  ...                Yes   \n",
      "1                          Japanese  ...                Yes   \n",
      "2  Seafood, Asian, Filipino, Indian  ...                Yes   \n",
      "3                   Japanese, Sushi  ...                 No   \n",
      "4                  Japanese, Korean  ...                Yes   \n",
      "\n",
      "  Has Online delivery Is delivering now Switch to order menu Price range  \\\n",
      "0                  No                No                   No           3   \n",
      "1                  No                No                   No           3   \n",
      "2                  No                No                   No           4   \n",
      "3                  No                No                   No           4   \n",
      "4                  No                No                   No           4   \n",
      "\n",
      "  Aggregate rating  Rating color  Rating text Votes  \\\n",
      "0              4.8    Dark Green    Excellent   314   \n",
      "1              4.5    Dark Green    Excellent   591   \n",
      "2              4.4         Green    Very Good   270   \n",
      "3              4.9    Dark Green    Excellent   365   \n",
      "4              4.8    Dark Green    Excellent   229   \n",
      "\n",
      "                                            features  \n",
      "0  French, Japanese, DessertsMakati CityExcellentYes  \n",
      "1                    JapaneseMakati CityExcellentYes  \n",
      "2  Seafood, Asian, Filipino, IndianMandaluyong Ci...  \n",
      "3         Japanese, SushiMandaluyong CityExcellentNo  \n",
      "4       Japanese, KoreanMandaluyong CityExcellentYes  \n",
      "\n",
      "[5 rows x 22 columns]\n"
     ]
    }
   ],
   "source": [
    "print(\" Cleaned dataset:\")\n",
    "print(data.head())"
   ]
  },
  {
   "cell_type": "code",
   "execution_count": 35,
   "id": "9e285246",
   "metadata": {},
   "outputs": [],
   "source": [
    "data['features'] = data['Cuisines']  + data['City']+ data['Rating text'] + data['Has Table booking']"
   ]
  },
  {
   "cell_type": "code",
   "execution_count": 36,
   "id": "1082acef",
   "metadata": {},
   "outputs": [
    {
     "name": "stdout",
     "output_type": "stream",
     "text": [
      "[[1.         0.32857524 0.         ... 0.         0.         0.        ]\n",
      " [0.32857524 1.         0.         ... 0.         0.         0.        ]\n",
      " [0.         0.         1.         ... 0.         0.         0.        ]\n",
      " ...\n",
      " [0.         0.         0.         ... 1.         0.         0.        ]\n",
      " [0.         0.         0.         ... 0.         1.         0.75276275]\n",
      " [0.         0.         0.         ... 0.         0.75276275 1.        ]]\n"
     ]
    }
   ],
   "source": [
    "\n",
    "tfidf = TfidfVectorizer(stop_words='english')\n",
    "tfidf_matrix = tfidf.fit_transform(data['features'])\n",
    "\n",
    "cosine_sim = linear_kernel(tfidf_matrix, tfidf_matrix)\n",
    "\n",
    "print (cosine_sim)"
   ]
  },
  {
   "cell_type": "code",
   "execution_count": 37,
   "id": "1337a120",
   "metadata": {},
   "outputs": [],
   "source": [
    "def recommend_restaurants(restaurant_name, cosine_sim=cosine_sim):\n",
    "    idx = data[data['Restaurant Name'] == restaurant_name].index[0]\n",
    "    sim_scores = list(enumerate(cosine_sim[idx]))\n",
    "    sim_scores = sorted(sim_scores, key=lambda x: x[1], reverse=True)\n",
    "    sim_scores = sim_scores[1:11]  \n",
    "    restaurant_indices = [i[0] for i in sim_scores]\n",
    "    return data['Restaurant Name'].iloc[restaurant_indices]\n"
   ]
  },
  {
   "cell_type": "code",
   "execution_count": 38,
   "id": "1c5047db",
   "metadata": {},
   "outputs": [
    {
     "name": "stdout",
     "output_type": "stream",
     "text": [
      "Recommended restaurants for Sambo Kojin: \n",
      "0                               Le Petit Souffle\n",
      "1                               Izakaya Kikufuji\n",
      "9                                       Locavore\n",
      "17                                    Balay Dako\n",
      "6400                             Dimsum Vs Sushi\n",
      "8       Spiral - Sofitel Philippine Plaza Manila\n",
      "21                 The Food Hall by Todd English\n",
      "20                                NIU by Vikings\n",
      "1169                                         Red\n",
      "3238                               Moets Oh! Bao\n",
      "Name: Restaurant Name, dtype: object\n"
     ]
    }
   ],
   "source": [
    "restaurant_name = \"Sambo Kojin\"  \n",
    "recommended_restaurants = recommend_restaurants(restaurant_name)\n",
    "print(\"Recommended restaurants for {}: \\n{}\".format(restaurant_name, recommended_restaurants))"
   ]
  },
  {
   "cell_type": "code",
   "execution_count": 39,
   "id": "50be44c0",
   "metadata": {},
   "outputs": [
    {
     "name": "stdout",
     "output_type": "stream",
     "text": [
      "Recommended restaurants based on user preferences:\n",
      "6717                        The Drunk House\n",
      "2751                           Munch Nation\n",
      "7863                        Big Yellow Door\n",
      "7862                               736 A.D.\n",
      "3337                        The Hudson Cafe\n",
      "7036                           Cafe Kazbaah\n",
      "3703             Sakley's The Mountain Cafe\n",
      "7046                   Young Wild Free Cafe\n",
      "7041    QRO Gourmeteriia BY DARK HOUSE KAFE\n",
      "201                                Deorio's\n",
      "Name: Restaurant Name, dtype: object\n"
     ]
    }
   ],
   "source": [
    "user_preferences = {\n",
    "    'favorite_restaurant': \"Nonna's Pasta & Pizzeria\",\n",
    "    'favorite_cuisine': \"Italian\"\n",
    "}\n",
    "\n",
    "\n",
    "favorite_restaurant = user_preferences['favorite_restaurant']\n",
    "recommended_restaurants = recommend_restaurants(favorite_restaurant)\n",
    "\n",
    "\n",
    "print(\"Recommended restaurants based on user preferences:\")\n",
    "print(recommended_restaurants)"
   ]
  },
  {
   "cell_type": "code",
   "execution_count": null,
   "id": "91b8ab87",
   "metadata": {},
   "outputs": [],
   "source": []
  }
 ],
 "metadata": {
  "kernelspec": {
   "display_name": "Python 3 (ipykernel)",
   "language": "python",
   "name": "python3"
  },
  "language_info": {
   "codemirror_mode": {
    "name": "ipython",
    "version": 3
   },
   "file_extension": ".py",
   "mimetype": "text/x-python",
   "name": "python",
   "nbconvert_exporter": "python",
   "pygments_lexer": "ipython3",
   "version": "3.11.4"
  }
 },
 "nbformat": 4,
 "nbformat_minor": 5
}
